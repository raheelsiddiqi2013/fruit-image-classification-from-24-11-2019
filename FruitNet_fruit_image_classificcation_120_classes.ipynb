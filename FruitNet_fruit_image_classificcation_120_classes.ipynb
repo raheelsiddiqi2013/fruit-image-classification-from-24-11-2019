{
 "cells": [
  {
   "cell_type": "code",
   "execution_count": 15,
   "metadata": {},
   "outputs": [
    {
     "name": "stdout",
     "output_type": "stream",
     "text": [
      "_________________________________________________________________\n",
      "Layer (type)                 Output Shape              Param #   \n",
      "=================================================================\n",
      "conv2d_5 (Conv2D)            (None, 98, 98, 32)        896       \n",
      "_________________________________________________________________\n",
      "conv2d_6 (Conv2D)            (None, 96, 96, 32)        9248      \n",
      "_________________________________________________________________\n",
      "max_pooling2d_3 (MaxPooling2 (None, 48, 48, 32)        0         \n",
      "_________________________________________________________________\n",
      "dropout_4 (Dropout)          (None, 48, 48, 32)        0         \n",
      "_________________________________________________________________\n",
      "conv2d_7 (Conv2D)            (None, 46, 46, 64)        18496     \n",
      "_________________________________________________________________\n",
      "conv2d_8 (Conv2D)            (None, 44, 44, 64)        36928     \n",
      "_________________________________________________________________\n",
      "max_pooling2d_4 (MaxPooling2 (None, 22, 22, 64)        0         \n",
      "_________________________________________________________________\n",
      "dropout_5 (Dropout)          (None, 22, 22, 64)        0         \n",
      "_________________________________________________________________\n",
      "flatten_2 (Flatten)          (None, 30976)             0         \n",
      "_________________________________________________________________\n",
      "dense_3 (Dense)              (None, 128)               3965056   \n",
      "_________________________________________________________________\n",
      "dropout_6 (Dropout)          (None, 128)               0         \n",
      "_________________________________________________________________\n",
      "dense_4 (Dense)              (None, 120)               15480     \n",
      "=================================================================\n",
      "Total params: 4,046,104\n",
      "Trainable params: 4,046,104\n",
      "Non-trainable params: 0\n",
      "_________________________________________________________________\n"
     ]
    }
   ],
   "source": [
    "import os\n",
    "import numpy as np\n",
    "import keras\n",
    "from keras import models\n",
    "from keras import layers\n",
    "from keras.preprocessing.image import ImageDataGenerator\n",
    "from keras import regularizers\n",
    "from keras import optimizers\n",
    "from keras.callbacks import ModelCheckpoint\n",
    "\n",
    "fruitNetModel=models.Sequential()\n",
    "\n",
    "fruitNetModel.add(layers.Conv2D(32, (3, 3), activation='relu', input_shape=(100, 100, 3)))\n",
    "fruitNetModel.add(layers.Conv2D(32, (3, 3), activation='relu'))\n",
    "fruitNetModel.add(layers.MaxPooling2D(pool_size=(2, 2)))\n",
    "fruitNetModel.add(layers.Dropout(0.2))\n",
    "\n",
    "fruitNetModel.add(layers.Conv2D(64, (3, 3), activation='relu'))\n",
    "fruitNetModel.add(layers.Conv2D(64, (3, 3), activation='relu'))\n",
    "fruitNetModel.add(layers.MaxPooling2D(pool_size=(2, 2)))\n",
    "fruitNetModel.add(layers.Dropout(0.2))\n",
    "\n",
    "fruitNetModel.add(layers.Flatten())\n",
    "fruitNetModel.add(layers.Dense(128, kernel_regularizer=regularizers.l2(0.001), activation='relu'))\n",
    "fruitNetModel.add(layers.Dropout(0.2))\n",
    "fruitNetModel.add(layers.Dense(120, activation='softmax'))\n",
    "\n",
    "fruitNetModel.compile(loss='categorical_crossentropy',optimizer=optimizers.Adam(lr=1e-4),metrics=['categorical_accuracy'])\n",
    "fruitNetModel.summary()\n",
    "\n",
    "filepath=\"FruitNet_fruit_image_classification_120_classes.h5\"\n",
    "checkpoint = ModelCheckpoint(filepath, save_best_only=True)\n",
    "callbacks_list = [checkpoint]"
   ]
  },
  {
   "cell_type": "code",
   "execution_count": 2,
   "metadata": {},
   "outputs": [],
   "source": [
    "train_dir='D:\\\\TensorFlow Programs\\\\fruit_image_classification_120_classes\\\\fruits\\\\fruits-360_dataset\\\\fruits-360\\\\Training'\n",
    "validation_dir='D:\\\\TensorFlow Programs\\\\fruit_image_classification_120_classes\\\\fruits\\\\fruits-360_dataset\\\\fruits-360\\\\Validation'\n",
    "test_dir='D:\\\\TensorFlow Programs\\\\fruit_image_classification_120_classes\\\\fruits\\\\fruits-360_dataset\\\\fruits-360\\\\Test'"
   ]
  },
  {
   "cell_type": "code",
   "execution_count": 11,
   "metadata": {},
   "outputs": [],
   "source": [
    "import os\n",
    "import shutil\n",
    "import glob\n",
    "import random\n",
    "\n",
    "CATEGORIES=os.listdir(test_dir)\n",
    "\n",
    "for category in CATEGORIES:\n",
    "    src_path=os.path.join(test_dir,category)\n",
    "    imgs_to_be_moved = random.sample(glob.glob(os.path.join(src_path,\"*.jpg\")), 50)\n",
    "    for img in enumerate(imgs_to_be_moved):\n",
    "        dest = os.path.join(validation_dir,category)\n",
    "        if not os.path.exists(dest):\n",
    "            os.makedirs(dest)\n",
    "    for img in enumerate(imgs_to_be_moved):\n",
    "        shutil.copy(img[1], dest)\n",
    "        os.remove(img[1])"
   ]
  },
  {
   "cell_type": "code",
   "execution_count": 12,
   "metadata": {},
   "outputs": [
    {
     "name": "stdout",
     "output_type": "stream",
     "text": [
      "Found 60498 images belonging to 120 classes.\n",
      "Found 6000 images belonging to 120 classes.\n"
     ]
    }
   ],
   "source": [
    "batch_size=32\n",
    "\n",
    "train_datagen = ImageDataGenerator(\n",
    "    rescale=1./255,\n",
    "    rotation_range=40,\n",
    "    width_shift_range=0.2,\n",
    "    height_shift_range=0.2,\n",
    "    shear_range=0.2,\n",
    "    zoom_range=0.2,\n",
    "    horizontal_flip=True,)\n",
    "\n",
    "# Note that the validation data should not be augmented!\n",
    "test_datagen = ImageDataGenerator(rescale=1./255)\n",
    "\n",
    "train_generator = train_datagen.flow_from_directory(\n",
    "        # This is the target directory\n",
    "        train_dir,\n",
    "        target_size=(100, 100),\n",
    "        batch_size=batch_size)\n",
    "\n",
    "validation_generator = test_datagen.flow_from_directory(\n",
    "        validation_dir,\n",
    "        target_size=(100, 100),\n",
    "        batch_size=batch_size, shuffle=False)"
   ]
  },
  {
   "cell_type": "code",
   "execution_count": 13,
   "metadata": {},
   "outputs": [],
   "source": [
    "number_of_training_samples=60498\n",
    "number_of_validation_samples=6000"
   ]
  },
  {
   "cell_type": "code",
   "execution_count": 16,
   "metadata": {},
   "outputs": [
    {
     "name": "stdout",
     "output_type": "stream",
     "text": [
      "Epoch 1/100\n",
      "1890/1890 [==============================] - 1506s 797ms/step - loss: 3.0742 - categorical_accuracy: 0.2421 - val_loss: 1.2944 - val_categorical_accuracy: 0.7036\n",
      "Epoch 2/100\n",
      "1890/1890 [==============================] - 496s 263ms/step - loss: 1.3717 - categorical_accuracy: 0.6113 - val_loss: 0.6836 - val_categorical_accuracy: 0.8371\n",
      "Epoch 3/100\n",
      "1890/1890 [==============================] - 487s 258ms/step - loss: 0.8955 - categorical_accuracy: 0.7544 - val_loss: 0.4575 - val_categorical_accuracy: 0.9120\n",
      "Epoch 4/100\n",
      "1890/1890 [==============================] - 496s 263ms/step - loss: 0.6921 - categorical_accuracy: 0.8169 - val_loss: 0.3753 - val_categorical_accuracy: 0.9335\n",
      "Epoch 5/100\n",
      "1890/1890 [==============================] - 489s 259ms/step - loss: 0.5692 - categorical_accuracy: 0.8544 - val_loss: 0.3238 - val_categorical_accuracy: 0.9427\n",
      "Epoch 6/100\n",
      "1890/1890 [==============================] - 479s 253ms/step - loss: 0.4928 - categorical_accuracy: 0.8783 - val_loss: 0.3248 - val_categorical_accuracy: 0.9403\n",
      "Epoch 7/100\n",
      "1890/1890 [==============================] - 494s 261ms/step - loss: 0.4430 - categorical_accuracy: 0.8942 - val_loss: 0.2686 - val_categorical_accuracy: 0.9568\n",
      "Epoch 8/100\n",
      "1890/1890 [==============================] - 501s 265ms/step - loss: 0.4035 - categorical_accuracy: 0.9050 - val_loss: 0.2455 - val_categorical_accuracy: 0.9645\n",
      "Epoch 9/100\n",
      "1890/1890 [==============================] - 505s 267ms/step - loss: 0.3701 - categorical_accuracy: 0.9147 - val_loss: 0.2304 - val_categorical_accuracy: 0.9655\n",
      "Epoch 10/100\n",
      "1890/1890 [==============================] - 493s 261ms/step - loss: 0.3491 - categorical_accuracy: 0.9212 - val_loss: 0.2505 - val_categorical_accuracy: 0.9640\n",
      "Epoch 11/100\n",
      "1890/1890 [==============================] - 497s 263ms/step - loss: 0.3316 - categorical_accuracy: 0.9249 - val_loss: 0.2554 - val_categorical_accuracy: 0.9573\n",
      "Epoch 12/100\n",
      "1890/1890 [==============================] - 502s 266ms/step - loss: 0.3132 - categorical_accuracy: 0.9313 - val_loss: 0.2067 - val_categorical_accuracy: 0.9732\n",
      "Epoch 13/100\n",
      "1890/1890 [==============================] - 493s 261ms/step - loss: 0.2972 - categorical_accuracy: 0.9362 - val_loss: 0.2100 - val_categorical_accuracy: 0.9734\n",
      "Epoch 14/100\n",
      "1890/1890 [==============================] - 485s 257ms/step - loss: 0.2884 - categorical_accuracy: 0.9379 - val_loss: 0.2122 - val_categorical_accuracy: 0.9739\n",
      "Epoch 15/100\n",
      "1890/1890 [==============================] - 492s 260ms/step - loss: 0.2770 - categorical_accuracy: 0.9415 - val_loss: 0.1911 - val_categorical_accuracy: 0.9782\n",
      "Epoch 16/100\n",
      "1890/1890 [==============================] - 480s 254ms/step - loss: 0.2679 - categorical_accuracy: 0.9441 - val_loss: 0.1918 - val_categorical_accuracy: 0.9786\n",
      "Epoch 17/100\n",
      "1890/1890 [==============================] - 476s 252ms/step - loss: 0.2608 - categorical_accuracy: 0.9463 - val_loss: 0.1894 - val_categorical_accuracy: 0.9750\n",
      "Epoch 18/100\n",
      "1890/1890 [==============================] - 460s 244ms/step - loss: 0.2512 - categorical_accuracy: 0.9482 - val_loss: 0.1741 - val_categorical_accuracy: 0.9859\n",
      "Epoch 19/100\n",
      "1890/1890 [==============================] - 459s 243ms/step - loss: 0.2435 - categorical_accuracy: 0.9510 - val_loss: 0.2441 - val_categorical_accuracy: 0.9621\n",
      "Epoch 20/100\n",
      "1890/1890 [==============================] - 461s 244ms/step - loss: 0.2337 - categorical_accuracy: 0.9544 - val_loss: 0.2051 - val_categorical_accuracy: 0.9720\n",
      "Epoch 21/100\n",
      "1890/1890 [==============================] - 460s 243ms/step - loss: 0.2317 - categorical_accuracy: 0.9540 - val_loss: 0.2205 - val_categorical_accuracy: 0.9648\n",
      "Epoch 22/100\n",
      "1890/1890 [==============================] - 462s 244ms/step - loss: 0.2216 - categorical_accuracy: 0.9563 - val_loss: 0.2065 - val_categorical_accuracy: 0.9682\n",
      "Epoch 23/100\n",
      "1890/1890 [==============================] - 656s 347ms/step - loss: 0.2189 - categorical_accuracy: 0.9580 - val_loss: 0.1652 - val_categorical_accuracy: 0.9807\n",
      "Epoch 24/100\n",
      "1890/1890 [==============================] - 471s 249ms/step - loss: 0.2145 - categorical_accuracy: 0.9593 - val_loss: 0.1768 - val_categorical_accuracy: 0.9782\n",
      "Epoch 25/100\n",
      "   3/1890 [..............................] - ETA: 3:41 - loss: 0.1447 - categorical_accuracy: 0.9896"
     ]
    },
    {
     "name": "stderr",
     "output_type": "stream",
     "text": [
      "C:\\Users\\Raheel\\Anaconda3\\envs\\EnvName\\lib\\site-packages\\keras\\callbacks.py:122: UserWarning: Method on_batch_end() is slow compared to the batch update (0.109349). Check your callbacks.\n",
      "  % delta_t_median)\n"
     ]
    },
    {
     "name": "stdout",
     "output_type": "stream",
     "text": [
      "1890/1890 [==============================] - 462s 244ms/step - loss: 0.2121 - categorical_accuracy: 0.9586 - val_loss: 0.1557 - val_categorical_accuracy: 0.9848\n",
      "Epoch 26/100\n",
      "1890/1890 [==============================] - 459s 243ms/step - loss: 0.2117 - categorical_accuracy: 0.9591 - val_loss: 0.1493 - val_categorical_accuracy: 0.9871\n",
      "Epoch 27/100\n",
      "1890/1890 [==============================] - 461s 244ms/step - loss: 0.2035 - categorical_accuracy: 0.9614 - val_loss: 0.1626 - val_categorical_accuracy: 0.9782\n",
      "Epoch 28/100\n",
      "   3/1890 [..............................] - ETA: 3:41 - loss: 0.2367 - categorical_accuracy: 0.9479"
     ]
    },
    {
     "name": "stderr",
     "output_type": "stream",
     "text": [
      "C:\\Users\\Raheel\\Anaconda3\\envs\\EnvName\\lib\\site-packages\\keras\\callbacks.py:122: UserWarning: Method on_batch_end() is slow compared to the batch update (0.109353). Check your callbacks.\n",
      "  % delta_t_median)\n"
     ]
    },
    {
     "name": "stdout",
     "output_type": "stream",
     "text": [
      "1890/1890 [==============================] - 461s 244ms/step - loss: 0.2050 - categorical_accuracy: 0.9613 - val_loss: 0.1628 - val_categorical_accuracy: 0.9767\n",
      "Epoch 29/100\n",
      "1890/1890 [==============================] - 460s 243ms/step - loss: 0.1963 - categorical_accuracy: 0.9633 - val_loss: 0.1649 - val_categorical_accuracy: 0.9809\n",
      "Epoch 30/100\n",
      "1890/1890 [==============================] - 462s 244ms/step - loss: 0.1953 - categorical_accuracy: 0.9650 - val_loss: 0.1494 - val_categorical_accuracy: 0.9826\n",
      "Epoch 31/100\n",
      "1890/1890 [==============================] - 647s 343ms/step - loss: 0.1931 - categorical_accuracy: 0.9650 - val_loss: 0.1589 - val_categorical_accuracy: 0.9802\n",
      "Epoch 32/100\n",
      "1890/1890 [==============================] - 489s 259ms/step - loss: 0.1909 - categorical_accuracy: 0.9650 - val_loss: 0.1381 - val_categorical_accuracy: 0.9844\n",
      "Epoch 33/100\n",
      "1890/1890 [==============================] - 458s 242ms/step - loss: 0.1850 - categorical_accuracy: 0.9671 - val_loss: 0.1536 - val_categorical_accuracy: 0.9841\n",
      "Epoch 34/100\n",
      "1890/1890 [==============================] - 460s 243ms/step - loss: 0.1854 - categorical_accuracy: 0.9664 - val_loss: 0.1824 - val_categorical_accuracy: 0.9747\n",
      "Epoch 35/100\n",
      "1890/1890 [==============================] - 460s 243ms/step - loss: 0.1836 - categorical_accuracy: 0.9671 - val_loss: 0.1354 - val_categorical_accuracy: 0.9869\n",
      "Epoch 36/100\n",
      "1890/1890 [==============================] - 460s 243ms/step - loss: 0.1812 - categorical_accuracy: 0.9679 - val_loss: 0.1601 - val_categorical_accuracy: 0.9792\n",
      "Epoch 37/100\n",
      "1890/1890 [==============================] - 460s 244ms/step - loss: 0.1790 - categorical_accuracy: 0.9673 - val_loss: 0.1584 - val_categorical_accuracy: 0.9819\n",
      "Epoch 38/100\n",
      "1890/1890 [==============================] - 461s 244ms/step - loss: 0.1772 - categorical_accuracy: 0.9684 - val_loss: 0.1573 - val_categorical_accuracy: 0.9826\n",
      "Epoch 39/100\n",
      "1890/1890 [==============================] - 460s 243ms/step - loss: 0.1753 - categorical_accuracy: 0.9693 - val_loss: 0.1903 - val_categorical_accuracy: 0.9703\n",
      "Epoch 40/100\n",
      "1890/1890 [==============================] - 461s 244ms/step - loss: 0.1782 - categorical_accuracy: 0.9686 - val_loss: 0.1436 - val_categorical_accuracy: 0.9881\n",
      "Epoch 41/100\n",
      "1890/1890 [==============================] - 514s 272ms/step - loss: 0.1726 - categorical_accuracy: 0.9703 - val_loss: 0.1386 - val_categorical_accuracy: 0.9883\n",
      "Epoch 42/100\n",
      "1890/1890 [==============================] - 628s 332ms/step - loss: 0.1731 - categorical_accuracy: 0.9700 - val_loss: 0.1375 - val_categorical_accuracy: 0.9864\n",
      "Epoch 43/100\n",
      "1890/1890 [==============================] - 475s 251ms/step - loss: 0.1716 - categorical_accuracy: 0.9699 - val_loss: 0.1314 - val_categorical_accuracy: 0.9883\n",
      "Epoch 44/100\n",
      "1890/1890 [==============================] - 462s 245ms/step - loss: 0.1717 - categorical_accuracy: 0.9706 - val_loss: 0.1304 - val_categorical_accuracy: 0.9851\n",
      "Epoch 45/100\n",
      "1890/1890 [==============================] - 483s 255ms/step - loss: 0.1665 - categorical_accuracy: 0.9716 - val_loss: 0.1375 - val_categorical_accuracy: 0.9829\n",
      "Epoch 46/100\n",
      "1890/1890 [==============================] - 501s 265ms/step - loss: 0.1689 - categorical_accuracy: 0.9702 - val_loss: 0.1704 - val_categorical_accuracy: 0.9727\n",
      "Epoch 47/100\n",
      "1890/1890 [==============================] - 480s 254ms/step - loss: 0.1647 - categorical_accuracy: 0.9722 - val_loss: 0.1582 - val_categorical_accuracy: 0.9814\n",
      "Epoch 48/100\n",
      "1890/1890 [==============================] - 480s 254ms/step - loss: 0.1621 - categorical_accuracy: 0.9715 - val_loss: 0.1446 - val_categorical_accuracy: 0.9846\n",
      "Epoch 49/100\n",
      "1890/1890 [==============================] - 480s 254ms/step - loss: 0.1611 - categorical_accuracy: 0.9723 - val_loss: 0.1540 - val_categorical_accuracy: 0.9786\n",
      "Epoch 50/100\n",
      "1890/1890 [==============================] - 487s 258ms/step - loss: 0.1624 - categorical_accuracy: 0.9732 - val_loss: 0.1931 - val_categorical_accuracy: 0.9685\n",
      "Epoch 51/100\n",
      "1890/1890 [==============================] - 488s 258ms/step - loss: 0.1580 - categorical_accuracy: 0.9737 - val_loss: 0.1363 - val_categorical_accuracy: 0.9864\n",
      "Epoch 52/100\n",
      "1890/1890 [==============================] - 489s 259ms/step - loss: 0.1578 - categorical_accuracy: 0.9735 - val_loss: 0.1239 - val_categorical_accuracy: 0.9904\n",
      "Epoch 53/100\n",
      "1890/1890 [==============================] - 486s 257ms/step - loss: 0.1569 - categorical_accuracy: 0.9740 - val_loss: 0.1281 - val_categorical_accuracy: 0.9913\n",
      "Epoch 54/100\n",
      "   4/1890 [..............................] - ETA: 2:49 - loss: 0.1754 - categorical_accuracy: 0.9766"
     ]
    },
    {
     "name": "stderr",
     "output_type": "stream",
     "text": [
      "C:\\Users\\Raheel\\Anaconda3\\envs\\EnvName\\lib\\site-packages\\keras\\callbacks.py:122: UserWarning: Method on_batch_end() is slow compared to the batch update (0.113695). Check your callbacks.\n",
      "  % delta_t_median)\n"
     ]
    },
    {
     "name": "stdout",
     "output_type": "stream",
     "text": [
      "1890/1890 [==============================] - 485s 257ms/step - loss: 0.1582 - categorical_accuracy: 0.9731 - val_loss: 0.1394 - val_categorical_accuracy: 0.9879\n",
      "Epoch 55/100\n",
      "1890/1890 [==============================] - 488s 258ms/step - loss: 0.1543 - categorical_accuracy: 0.9743 - val_loss: 0.1325 - val_categorical_accuracy: 0.9846\n",
      "Epoch 56/100\n",
      "1890/1890 [==============================] - 489s 259ms/step - loss: 0.1531 - categorical_accuracy: 0.9746 - val_loss: 0.1141 - val_categorical_accuracy: 0.9933\n",
      "Epoch 57/100\n",
      "1890/1890 [==============================] - 485s 257ms/step - loss: 0.1533 - categorical_accuracy: 0.9753 - val_loss: 0.1465 - val_categorical_accuracy: 0.9821\n",
      "Epoch 58/100\n",
      "1890/1890 [==============================] - 487s 258ms/step - loss: 0.1538 - categorical_accuracy: 0.9739 - val_loss: 0.1319 - val_categorical_accuracy: 0.9868\n",
      "Epoch 59/100\n",
      " 181/1890 [=>............................] - ETA: 6:52 - loss: 0.1546 - categorical_accuracy: 0.9752"
     ]
    },
    {
     "name": "stderr",
     "output_type": "stream",
     "text": [
      "C:\\Users\\Raheel\\Anaconda3\\envs\\EnvName\\lib\\site-packages\\keras\\callbacks.py:122: UserWarning: Method on_batch_end() is slow compared to the batch update (0.100203). Check your callbacks.\n",
      "  % delta_t_median)\n"
     ]
    },
    {
     "name": "stdout",
     "output_type": "stream",
     "text": [
      "1890/1890 [==============================] - 489s 259ms/step - loss: 0.1494 - categorical_accuracy: 0.9755 - val_loss: 0.1186 - val_categorical_accuracy: 0.9879\n",
      "Epoch 60/100\n",
      "1890/1890 [==============================] - 488s 258ms/step - loss: 0.1504 - categorical_accuracy: 0.9757 - val_loss: 0.1403 - val_categorical_accuracy: 0.9804\n",
      "Epoch 61/100\n",
      "1890/1890 [==============================] - 488s 258ms/step - loss: 0.1470 - categorical_accuracy: 0.9762 - val_loss: 0.1302 - val_categorical_accuracy: 0.9858\n",
      "Epoch 62/100\n",
      "1890/1890 [==============================] - 488s 258ms/step - loss: 0.1474 - categorical_accuracy: 0.9764 - val_loss: 0.1440 - val_categorical_accuracy: 0.9832\n",
      "Epoch 63/100\n",
      "1890/1890 [==============================] - 490s 259ms/step - loss: 0.1521 - categorical_accuracy: 0.9743 - val_loss: 0.1286 - val_categorical_accuracy: 0.9861\n",
      "Epoch 64/100\n",
      "1890/1890 [==============================] - 489s 259ms/step - loss: 0.1453 - categorical_accuracy: 0.9772 - val_loss: 0.1298 - val_categorical_accuracy: 0.9834\n",
      "Epoch 65/100\n",
      "1890/1890 [==============================] - 490s 259ms/step - loss: 0.1487 - categorical_accuracy: 0.9757 - val_loss: 0.1551 - val_categorical_accuracy: 0.9863\n",
      "Epoch 66/100\n",
      "1890/1890 [==============================] - 488s 258ms/step - loss: 0.1452 - categorical_accuracy: 0.9769 - val_loss: 0.1383 - val_categorical_accuracy: 0.9868\n",
      "Epoch 67/100\n",
      "1890/1890 [==============================] - 492s 260ms/step - loss: 0.1418 - categorical_accuracy: 0.9781 - val_loss: 0.1416 - val_categorical_accuracy: 0.9822\n",
      "Epoch 68/100\n",
      "1890/1890 [==============================] - 502s 266ms/step - loss: 0.1389 - categorical_accuracy: 0.9785 - val_loss: 0.1122 - val_categorical_accuracy: 0.9955\n",
      "Epoch 69/100\n",
      "1890/1890 [==============================] - 505s 267ms/step - loss: 0.1436 - categorical_accuracy: 0.9768 - val_loss: 0.1399 - val_categorical_accuracy: 0.9848\n",
      "Epoch 70/100\n",
      "1890/1890 [==============================] - 488s 258ms/step - loss: 0.1410 - categorical_accuracy: 0.9779 - val_loss: 0.1443 - val_categorical_accuracy: 0.9869\n",
      "Epoch 71/100\n",
      "1890/1890 [==============================] - 525s 278ms/step - loss: 0.1412 - categorical_accuracy: 0.9775 - val_loss: 0.1234 - val_categorical_accuracy: 0.9884\n",
      "Epoch 72/100\n",
      "1890/1890 [==============================] - 496s 262ms/step - loss: 0.1430 - categorical_accuracy: 0.9774 - val_loss: 0.1511 - val_categorical_accuracy: 0.9764\n",
      "Epoch 73/100\n",
      "1890/1890 [==============================] - 455s 241ms/step - loss: 0.1367 - categorical_accuracy: 0.9796 - val_loss: 0.1089 - val_categorical_accuracy: 0.9913\n",
      "Epoch 74/100\n",
      "1890/1890 [==============================] - 458s 242ms/step - loss: 0.1380 - categorical_accuracy: 0.9781 - val_loss: 0.1205 - val_categorical_accuracy: 0.9918\n",
      "Epoch 75/100\n",
      "1890/1890 [==============================] - 456s 241ms/step - loss: 0.1410 - categorical_accuracy: 0.9780 - val_loss: 0.1296 - val_categorical_accuracy: 0.9871\n",
      "Epoch 76/100\n",
      "1890/1890 [==============================] - 456s 241ms/step - loss: 0.1381 - categorical_accuracy: 0.9788 - val_loss: 0.1381 - val_categorical_accuracy: 0.9832\n",
      "Epoch 77/100\n",
      "1890/1890 [==============================] - 456s 242ms/step - loss: 0.1372 - categorical_accuracy: 0.9785 - val_loss: 0.1246 - val_categorical_accuracy: 0.9908\n",
      "Epoch 78/100\n",
      "1890/1890 [==============================] - 458s 242ms/step - loss: 0.1389 - categorical_accuracy: 0.9785 - val_loss: 0.1473 - val_categorical_accuracy: 0.9831\n",
      "Epoch 79/100\n",
      "1890/1890 [==============================] - 466s 246ms/step - loss: 0.1363 - categorical_accuracy: 0.9797 - val_loss: 0.1233 - val_categorical_accuracy: 0.9873\n",
      "Epoch 80/100\n",
      "1890/1890 [==============================] - 499s 264ms/step - loss: 0.1378 - categorical_accuracy: 0.9789 - val_loss: 0.1373 - val_categorical_accuracy: 0.9854\n",
      "Epoch 81/100\n",
      "1890/1890 [==============================] - 490s 259ms/step - loss: 0.1353 - categorical_accuracy: 0.9795 - val_loss: 0.1301 - val_categorical_accuracy: 0.9881\n",
      "Epoch 82/100\n",
      "1890/1890 [==============================] - 477s 252ms/step - loss: 0.1362 - categorical_accuracy: 0.9791 - val_loss: 0.1210 - val_categorical_accuracy: 0.9910\n",
      "Epoch 83/100\n",
      "1890/1890 [==============================] - 499s 264ms/step - loss: 0.1347 - categorical_accuracy: 0.9797 - val_loss: 0.1385 - val_categorical_accuracy: 0.9853\n",
      "Epoch 84/100\n",
      "1890/1890 [==============================] - 472s 250ms/step - loss: 0.1390 - categorical_accuracy: 0.9788 - val_loss: 0.1039 - val_categorical_accuracy: 0.9953\n",
      "Epoch 85/100\n",
      "   4/1890 [..............................] - ETA: 2:54 - loss: 0.1056 - categorical_accuracy: 1.0000"
     ]
    },
    {
     "name": "stderr",
     "output_type": "stream",
     "text": [
      "C:\\Users\\Raheel\\Anaconda3\\envs\\EnvName\\lib\\site-packages\\keras\\callbacks.py:122: UserWarning: Method on_batch_end() is slow compared to the batch update (0.109342). Check your callbacks.\n",
      "  % delta_t_median)\n"
     ]
    },
    {
     "name": "stdout",
     "output_type": "stream",
     "text": [
      "1890/1890 [==============================] - 476s 252ms/step - loss: 0.1310 - categorical_accuracy: 0.9811 - val_loss: 0.1285 - val_categorical_accuracy: 0.9866\n",
      "Epoch 86/100\n",
      "1890/1890 [==============================] - 507s 269ms/step - loss: 0.1344 - categorical_accuracy: 0.9802 - val_loss: 0.1346 - val_categorical_accuracy: 0.9878\n",
      "Epoch 87/100\n",
      "1890/1890 [==============================] - 479s 253ms/step - loss: 0.1350 - categorical_accuracy: 0.9800 - val_loss: 0.1403 - val_categorical_accuracy: 0.9894\n",
      "Epoch 88/100\n",
      "1890/1890 [==============================] - 480s 254ms/step - loss: 0.1291 - categorical_accuracy: 0.9813 - val_loss: 0.1281 - val_categorical_accuracy: 0.9873\n",
      "Epoch 89/100\n",
      "1890/1890 [==============================] - 480s 254ms/step - loss: 0.1331 - categorical_accuracy: 0.9800 - val_loss: 0.1344 - val_categorical_accuracy: 0.9888\n",
      "Epoch 90/100\n",
      "1890/1890 [==============================] - 504s 267ms/step - loss: 0.1327 - categorical_accuracy: 0.9798 - val_loss: 0.1199 - val_categorical_accuracy: 0.9878\n",
      "Epoch 91/100\n",
      "1890/1890 [==============================] - 474s 251ms/step - loss: 0.1327 - categorical_accuracy: 0.9814 - val_loss: 0.1138 - val_categorical_accuracy: 0.9886\n",
      "Epoch 92/100\n",
      "1890/1890 [==============================] - 484s 256ms/step - loss: 0.1308 - categorical_accuracy: 0.9806 - val_loss: 0.1448 - val_categorical_accuracy: 0.9799\n",
      "Epoch 93/100\n",
      "1890/1890 [==============================] - 463s 245ms/step - loss: 0.1344 - categorical_accuracy: 0.9798 - val_loss: 0.1317 - val_categorical_accuracy: 0.9923\n",
      "Epoch 94/100\n",
      "1890/1890 [==============================] - 454s 240ms/step - loss: 0.1274 - categorical_accuracy: 0.9821 - val_loss: 0.1277 - val_categorical_accuracy: 0.9898\n",
      "Epoch 95/100\n",
      "1890/1890 [==============================] - 455s 241ms/step - loss: 0.1294 - categorical_accuracy: 0.9810 - val_loss: 0.1126 - val_categorical_accuracy: 0.9898\n",
      "Epoch 96/100\n",
      "1890/1890 [==============================] - 455s 241ms/step - loss: 0.1256 - categorical_accuracy: 0.9824 - val_loss: 0.1222 - val_categorical_accuracy: 0.9866\n",
      "Epoch 97/100\n",
      "1890/1890 [==============================] - 455s 241ms/step - loss: 0.1285 - categorical_accuracy: 0.9808 - val_loss: 0.1411 - val_categorical_accuracy: 0.9826\n",
      "Epoch 98/100\n",
      "1890/1890 [==============================] - 454s 240ms/step - loss: 0.1298 - categorical_accuracy: 0.9812 - val_loss: 0.1137 - val_categorical_accuracy: 0.9921\n",
      "Epoch 99/100\n",
      "1890/1890 [==============================] - 454s 240ms/step - loss: 0.1265 - categorical_accuracy: 0.9817 - val_loss: 0.1475 - val_categorical_accuracy: 0.9831\n",
      "Epoch 100/100\n",
      "1890/1890 [==============================] - 454s 240ms/step - loss: 0.1313 - categorical_accuracy: 0.9801 - val_loss: 0.1196 - val_categorical_accuracy: 0.9923\n"
     ]
    }
   ],
   "source": [
    "import math\n",
    "\n",
    "history = fruitNetModel.fit_generator(\n",
    "      train_generator,\n",
    "      steps_per_epoch=math.ceil(number_of_training_samples//batch_size),\n",
    "      epochs=100,\n",
    "      callbacks=callbacks_list,\n",
    "      validation_data=validation_generator,\n",
    "      validation_steps=math.ceil(number_of_validation_samples//batch_size))"
   ]
  },
  {
   "cell_type": "code",
   "execution_count": 17,
   "metadata": {},
   "outputs": [
    {
     "data": {
      "image/png": "[encoded data removed]",
      "text/plain": [
       "<Figure size 432x288 with 1 Axes>"
      ]
     },
     "metadata": {
      "needs_background": "light"
     },
     "output_type": "display_data"
    },
    {
     "data": {
      "image/png": "[encoded data removed]",
      "text/plain": [
       "<Figure size 432x288 with 1 Axes>"
      ]
     },
     "metadata": {
      "needs_background": "light"
     },
     "output_type": "display_data"
    }
   ],
   "source": [
    "import matplotlib.pyplot as plt\n",
    "%matplotlib inline\n",
    "\n",
    "acc=history.history['categorical_accuracy']\n",
    "val_acc=history.history['val_categorical_accuracy']\n",
    "loss=history.history['loss']\n",
    "val_loss=history.history['val_loss']\n",
    "epochs=range(1,len(acc)+1)\n",
    "plt.xlabel('Epochs')\n",
    "plt.ylabel('Accuracy')\n",
    "plt.plot(epochs, acc, 'bo', label='Training acc')\n",
    "plt.plot(epochs, val_acc, 'b', label='Validation acc')\n",
    "plt.title('Training and validation accuracy')\n",
    "plt.legend()\n",
    "plt.figure()\n",
    "\n",
    "plt.plot(epochs, loss, 'bo', label='Training loss')\n",
    "plt.plot(epochs, val_loss, 'b', label='Validation loss')\n",
    "plt.title('Training and validation loss')\n",
    "plt.xlabel('Epochs')\n",
    "plt.ylabel('Loss')\n",
    "plt.legend()\n",
    "plt.show()"
   ]
  },
  {
   "cell_type": "code",
   "execution_count": 18,
   "metadata": {},
   "outputs": [],
   "source": [
    "number_of_test_samples=14622"
   ]
  },
  {
   "cell_type": "code",
   "execution_count": 19,
   "metadata": {},
   "outputs": [
    {
     "name": "stdout",
     "output_type": "stream",
     "text": [
      "Found 14622 images belonging to 120 classes.\n",
      "Test-set accuracy: 99.58%\n"
     ]
    }
   ],
   "source": [
    "from tensorflow.python.keras.models import load_model\n",
    "\n",
    "test_generator = test_datagen.flow_from_directory(\n",
    "        test_dir,\n",
    "        target_size=(100, 100),\n",
    "        batch_size=batch_size, shuffle=False)\n",
    "\n",
    "best_model = load_model('FruitNet_fruit_image_classification_120_classes.h5')\n",
    "steps_test=int(number_of_test_samples/batch_size)\n",
    "result = best_model.evaluate_generator(test_generator, steps=steps_test)\n",
    "print(\"Test-set accuracy: {0:.2%}\".format(result[1]))"
   ]
  }
 ],
 "metadata": {
  "kernelspec": {
   "display_name": "Python 3",
   "language": "python",
   "name": "python3"
  },
  "language_info": {
   "codemirror_mode": {
    "name": "ipython",
    "version": 3
   },
   "file_extension": ".py",
   "mimetype": "text/x-python",
   "name": "python",
   "nbconvert_exporter": "python",
   "pygments_lexer": "ipython3",
   "version": "3.6.8"
  }
 },
 "nbformat": 4,
 "nbformat_minor": 2
}
