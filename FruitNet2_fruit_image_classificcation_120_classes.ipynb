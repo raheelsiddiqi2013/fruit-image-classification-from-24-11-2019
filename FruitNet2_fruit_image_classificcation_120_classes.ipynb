{
 "cells": [
  {
   "cell_type": "code",
   "execution_count": 1,
   "metadata": {},
   "outputs": [
    {
     "name": "stderr",
     "output_type": "stream",
     "text": [
      "Using TensorFlow backend.\n"
     ]
    },
    {
     "name": "stdout",
     "output_type": "stream",
     "text": [
      "WARNING:tensorflow:From C:\\Users\\Raheel\\Anaconda3\\envs\\EnvName\\lib\\site-packages\\tensorflow\\python\\framework\\op_def_library.py:263: colocate_with (from tensorflow.python.framework.ops) is deprecated and will be removed in a future version.\n",
      "Instructions for updating:\n",
      "Colocations handled automatically by placer.\n",
      "WARNING:tensorflow:From C:\\Users\\Raheel\\Anaconda3\\envs\\EnvName\\lib\\site-packages\\keras\\backend\\tensorflow_backend.py:3445: calling dropout (from tensorflow.python.ops.nn_ops) with keep_prob is deprecated and will be removed in a future version.\n",
      "Instructions for updating:\n",
      "Please use `rate` instead of `keep_prob`. Rate should be set to `rate = 1 - keep_prob`.\n",
      "_________________________________________________________________\n",
      "Layer (type)                 Output Shape              Param #   \n",
      "=================================================================\n",
      "separable_conv2d_1 (Separabl (None, 98, 98, 128)       950       \n",
      "_________________________________________________________________\n",
      "separable_conv2d_2 (Separabl (None, 96, 96, 128)       35200     \n",
      "_________________________________________________________________\n",
      "max_pooling2d_1 (MaxPooling2 (None, 48, 48, 128)       0         \n",
      "_________________________________________________________________\n",
      "separable_conv2d_3 (Separabl (None, 46, 46, 256)       68096     \n",
      "_________________________________________________________________\n",
      "separable_conv2d_4 (Separabl (None, 44, 44, 256)       135936    \n",
      "_________________________________________________________________\n",
      "global_average_pooling2d_1 ( (None, 256)               0         \n",
      "_________________________________________________________________\n",
      "dense_1 (Dense)              (None, 128)               32896     \n",
      "_________________________________________________________________\n",
      "dropout_1 (Dropout)          (None, 128)               0         \n",
      "_________________________________________________________________\n",
      "dense_2 (Dense)              (None, 120)               15480     \n",
      "=================================================================\n",
      "Total params: 288,558\n",
      "Trainable params: 288,558\n",
      "Non-trainable params: 0\n",
      "_________________________________________________________________\n"
     ]
    }
   ],
   "source": [
    "import os\n",
    "import numpy as np\n",
    "import keras\n",
    "from keras import models\n",
    "from keras import layers\n",
    "from keras.preprocessing.image import ImageDataGenerator\n",
    "from keras import regularizers\n",
    "from keras import optimizers\n",
    "from keras.callbacks import ModelCheckpoint\n",
    "\n",
    "fruitNetModel=models.Sequential()\n",
    "\n",
    "fruitNetModel.add(layers.SeparableConv2D(128, (3, 3), depth_multiplier=2, activation='relu', input_shape=(100, 100, 3)))\n",
    "fruitNetModel.add(layers.SeparableConv2D(128, (3, 3), depth_multiplier=2, activation='relu'))\n",
    "fruitNetModel.add(layers.MaxPooling2D(pool_size=(2, 2)))\n",
    "\n",
    "fruitNetModel.add(layers.SeparableConv2D(256, (3, 3), depth_multiplier=2, activation='relu'))\n",
    "fruitNetModel.add(layers.SeparableConv2D(256, (3, 3), depth_multiplier=2, activation='relu'))\n",
    "fruitNetModel.add(layers.GlobalAveragePooling2D())\n",
    "\n",
    "fruitNetModel.add(layers.Dense(128, kernel_regularizer=regularizers.l2(0.001), activation='relu'))\n",
    "fruitNetModel.add(layers.Dropout(0.2))\n",
    "fruitNetModel.add(layers.Dense(120, activation='softmax'))\n",
    "\n",
    "fruitNetModel.compile(loss='categorical_crossentropy',optimizer=optimizers.Adam(lr=1e-4),metrics=['categorical_accuracy'])\n",
    "fruitNetModel.summary()\n",
    "\n",
    "filepath=\"FruitNet2_fruit_image_classification_120_classes.h5\"\n",
    "checkpoint = ModelCheckpoint(filepath, save_best_only=True)\n",
    "callbacks_list = [checkpoint]"
   ]
  },
  {
   "cell_type": "code",
   "execution_count": 2,
   "metadata": {},
   "outputs": [],
   "source": [
    "train_dir='D:\\\\TensorFlow Programs\\\\fruit_image_classification_120_classes\\\\fruits\\\\fruits-360_dataset\\\\fruits-360\\\\Training'\n",
    "validation_dir='D:\\\\TensorFlow Programs\\\\fruit_image_classification_120_classes\\\\fruits\\\\fruits-360_dataset\\\\fruits-360\\\\Validation'\n",
    "test_dir='D:\\\\TensorFlow Programs\\\\fruit_image_classification_120_classes\\\\fruits\\\\fruits-360_dataset\\\\fruits-360\\\\Test'"
   ]
  },
  {
   "cell_type": "code",
   "execution_count": 3,
   "metadata": {},
   "outputs": [
    {
     "name": "stdout",
     "output_type": "stream",
     "text": [
      "Found 60498 images belonging to 120 classes.\n",
      "Found 6000 images belonging to 120 classes.\n"
     ]
    }
   ],
   "source": [
    "batch_size=32\n",
    "\n",
    "train_datagen = ImageDataGenerator(\n",
    "    rescale=1./255,\n",
    "    rotation_range=40,\n",
    "    width_shift_range=0.2,\n",
    "    height_shift_range=0.2,\n",
    "    shear_range=0.2,\n",
    "    zoom_range=0.2,\n",
    "    horizontal_flip=True,)\n",
    "\n",
    "# Note that the validation data should not be augmented!\n",
    "validation_datagen = ImageDataGenerator(rescale=1./255)\n",
    "\n",
    "test_datagen = ImageDataGenerator(rescale=1./255)\n",
    "\n",
    "train_generator = train_datagen.flow_from_directory(\n",
    "        # This is the target directory\n",
    "        train_dir,\n",
    "        target_size=(100, 100),\n",
    "        batch_size=batch_size)\n",
    "\n",
    "validation_generator = validation_datagen.flow_from_directory(\n",
    "        validation_dir,\n",
    "        target_size=(100, 100),\n",
    "        batch_size=batch_size, shuffle=False)"
   ]
  },
  {
   "cell_type": "code",
   "execution_count": 4,
   "metadata": {},
   "outputs": [],
   "source": [
    "number_of_training_samples=60498\n",
    "number_of_validation_samples=6000"
   ]
  },
  {
   "cell_type": "code",
   "execution_count": 5,
   "metadata": {},
   "outputs": [
    {
     "name": "stdout",
     "output_type": "stream",
     "text": [
      "WARNING:tensorflow:From C:\\Users\\Raheel\\Anaconda3\\envs\\EnvName\\lib\\site-packages\\tensorflow\\python\\ops\\math_ops.py:3066: to_int32 (from tensorflow.python.ops.math_ops) is deprecated and will be removed in a future version.\n",
      "Instructions for updating:\n",
      "Use tf.cast instead.\n",
      "Epoch 1/50\n",
      "1890/1890 [==============================] - 1017s 538ms/step - loss: 4.3201 - categorical_accuracy: 0.0352 - val_loss: 3.5245 - val_categorical_accuracy: 0.0961\n",
      "Epoch 2/50\n",
      "1890/1890 [==============================] - 865s 457ms/step - loss: 3.0180 - categorical_accuracy: 0.1672 - val_loss: 2.2375 - val_categorical_accuracy: 0.3623\n",
      "Epoch 3/50\n",
      "1890/1890 [==============================] - 847s 448ms/step - loss: 2.3288 - categorical_accuracy: 0.2959 - val_loss: 1.7937 - val_categorical_accuracy: 0.4888\n",
      "Epoch 4/50\n",
      "1890/1890 [==============================] - 846s 448ms/step - loss: 1.9604 - categorical_accuracy: 0.3867 - val_loss: 1.4863 - val_categorical_accuracy: 0.5788\n",
      "Epoch 5/50\n",
      "1890/1890 [==============================] - 846s 447ms/step - loss: 1.6709 - categorical_accuracy: 0.4685 - val_loss: 1.2366 - val_categorical_accuracy: 0.6530\n",
      "Epoch 6/50\n",
      "1890/1890 [==============================] - 846s 448ms/step - loss: 1.4317 - categorical_accuracy: 0.5394 - val_loss: 1.1118 - val_categorical_accuracy: 0.6910\n",
      "Epoch 7/50\n",
      "1890/1890 [==============================] - 846s 448ms/step - loss: 1.2236 - categorical_accuracy: 0.6058 - val_loss: 0.8779 - val_categorical_accuracy: 0.7611\n",
      "Epoch 8/50\n",
      "1890/1890 [==============================] - 847s 448ms/step - loss: 1.0498 - categorical_accuracy: 0.6610 - val_loss: 0.7955 - val_categorical_accuracy: 0.7805\n",
      "Epoch 9/50\n",
      "1890/1890 [==============================] - 851s 450ms/step - loss: 0.8965 - categorical_accuracy: 0.7107 - val_loss: 0.6932 - val_categorical_accuracy: 0.8088\n",
      "Epoch 10/50\n",
      "1890/1890 [==============================] - 847s 448ms/step - loss: 0.7635 - categorical_accuracy: 0.7547 - val_loss: 0.5701 - val_categorical_accuracy: 0.8484\n",
      "Epoch 11/50\n",
      "1890/1890 [==============================] - 849s 449ms/step - loss: 0.6525 - categorical_accuracy: 0.7908 - val_loss: 0.5588 - val_categorical_accuracy: 0.8485\n",
      "Epoch 12/50\n",
      "1890/1890 [==============================] - 850s 450ms/step - loss: 0.5712 - categorical_accuracy: 0.8189 - val_loss: 0.4829 - val_categorical_accuracy: 0.8742\n",
      "Epoch 13/50\n",
      "1890/1890 [==============================] - 850s 450ms/step - loss: 0.4986 - categorical_accuracy: 0.8425 - val_loss: 0.4153 - val_categorical_accuracy: 0.8847\n",
      "Epoch 14/50\n",
      "1890/1890 [==============================] - 849s 449ms/step - loss: 0.4512 - categorical_accuracy: 0.8579 - val_loss: 0.3958 - val_categorical_accuracy: 0.8921\n",
      "Epoch 15/50\n",
      "1890/1890 [==============================] - 850s 449ms/step - loss: 0.4110 - categorical_accuracy: 0.8717 - val_loss: 0.3797 - val_categorical_accuracy: 0.8981\n",
      "Epoch 16/50\n",
      "1890/1890 [==============================] - 850s 450ms/step - loss: 0.3729 - categorical_accuracy: 0.8848 - val_loss: 0.3796 - val_categorical_accuracy: 0.8911\n",
      "Epoch 17/50\n",
      "1890/1890 [==============================] - 850s 450ms/step - loss: 0.3490 - categorical_accuracy: 0.8917 - val_loss: 0.3416 - val_categorical_accuracy: 0.9070\n",
      "Epoch 18/50\n",
      "1890/1890 [==============================] - 850s 450ms/step - loss: 0.3298 - categorical_accuracy: 0.8975 - val_loss: 0.2983 - val_categorical_accuracy: 0.9132\n",
      "Epoch 19/50\n",
      "1890/1890 [==============================] - 850s 450ms/step - loss: 0.3017 - categorical_accuracy: 0.9066 - val_loss: 0.2834 - val_categorical_accuracy: 0.9244\n",
      "Epoch 20/50\n",
      "1890/1890 [==============================] - 849s 449ms/step - loss: 0.2836 - categorical_accuracy: 0.9124 - val_loss: 0.2901 - val_categorical_accuracy: 0.9285\n",
      "Epoch 21/50\n",
      "1890/1890 [==============================] - 850s 450ms/step - loss: 0.2700 - categorical_accuracy: 0.9167 - val_loss: 0.2947 - val_categorical_accuracy: 0.9194\n",
      "Epoch 22/50\n",
      "1890/1890 [==============================] - 850s 450ms/step - loss: 0.2596 - categorical_accuracy: 0.9203 - val_loss: 0.2624 - val_categorical_accuracy: 0.9285\n",
      "Epoch 23/50\n",
      "1890/1890 [==============================] - 850s 450ms/step - loss: 0.2504 - categorical_accuracy: 0.9234 - val_loss: 0.2520 - val_categorical_accuracy: 0.9333\n",
      "Epoch 24/50\n",
      "1890/1890 [==============================] - 850s 450ms/step - loss: 0.2374 - categorical_accuracy: 0.9279 - val_loss: 0.2374 - val_categorical_accuracy: 0.9377\n",
      "Epoch 25/50\n",
      "1890/1890 [==============================] - 850s 450ms/step - loss: 0.2294 - categorical_accuracy: 0.9307 - val_loss: 0.2466 - val_categorical_accuracy: 0.9363\n",
      "Epoch 26/50\n",
      "1890/1890 [==============================] - 849s 449ms/step - loss: 0.2212 - categorical_accuracy: 0.9332 - val_loss: 0.2247 - val_categorical_accuracy: 0.9499\n",
      "Epoch 27/50\n",
      "1890/1890 [==============================] - 850s 450ms/step - loss: 0.2126 - categorical_accuracy: 0.9370 - val_loss: 0.2065 - val_categorical_accuracy: 0.9529\n",
      "Epoch 28/50\n",
      "1890/1890 [==============================] - 849s 449ms/step - loss: 0.2060 - categorical_accuracy: 0.9390 - val_loss: 0.2393 - val_categorical_accuracy: 0.9383\n",
      "Epoch 29/50\n",
      "1890/1890 [==============================] - 849s 449ms/step - loss: 0.1973 - categorical_accuracy: 0.9426 - val_loss: 0.2199 - val_categorical_accuracy: 0.9378\n",
      "Epoch 30/50\n",
      "1890/1890 [==============================] - 856s 453ms/step - loss: 0.1943 - categorical_accuracy: 0.9429 - val_loss: 0.2048 - val_categorical_accuracy: 0.9479\n",
      "Epoch 31/50\n",
      "1890/1890 [==============================] - 851s 450ms/step - loss: 0.1910 - categorical_accuracy: 0.9430 - val_loss: 0.2011 - val_categorical_accuracy: 0.9454\n",
      "Epoch 32/50\n",
      "1890/1890 [==============================] - 849s 449ms/step - loss: 0.1826 - categorical_accuracy: 0.9461 - val_loss: 0.2095 - val_categorical_accuracy: 0.9491\n",
      "Epoch 33/50\n",
      "1890/1890 [==============================] - 849s 449ms/step - loss: 0.1806 - categorical_accuracy: 0.9466 - val_loss: 0.2135 - val_categorical_accuracy: 0.9497\n",
      "Epoch 34/50\n",
      "1890/1890 [==============================] - 849s 449ms/step - loss: 0.1748 - categorical_accuracy: 0.9495 - val_loss: 0.2123 - val_categorical_accuracy: 0.9440\n",
      "Epoch 35/50\n",
      "1890/1890 [==============================] - 849s 449ms/step - loss: 0.1682 - categorical_accuracy: 0.9515 - val_loss: 0.2377 - val_categorical_accuracy: 0.9382\n",
      "Epoch 36/50\n",
      "1890/1890 [==============================] - 849s 449ms/step - loss: 0.1660 - categorical_accuracy: 0.9519 - val_loss: 0.1898 - val_categorical_accuracy: 0.9512\n",
      "Epoch 37/50\n",
      "1890/1890 [==============================] - 849s 449ms/step - loss: 0.1601 - categorical_accuracy: 0.9547 - val_loss: 0.2078 - val_categorical_accuracy: 0.9457\n",
      "Epoch 38/50\n",
      "1890/1890 [==============================] - 849s 449ms/step - loss: 0.1602 - categorical_accuracy: 0.9536 - val_loss: 0.1802 - val_categorical_accuracy: 0.9546\n",
      "Epoch 39/50\n",
      "1890/1890 [==============================] - 850s 450ms/step - loss: 0.1547 - categorical_accuracy: 0.9558 - val_loss: 0.1728 - val_categorical_accuracy: 0.9598\n",
      "Epoch 40/50\n",
      "1890/1890 [==============================] - 850s 450ms/step - loss: 0.1488 - categorical_accuracy: 0.9580 - val_loss: 0.1657 - val_categorical_accuracy: 0.9620\n",
      "Epoch 41/50\n",
      "1890/1890 [==============================] - 850s 450ms/step - loss: 0.1492 - categorical_accuracy: 0.9580 - val_loss: 0.1824 - val_categorical_accuracy: 0.9527\n",
      "Epoch 42/50\n",
      "1890/1890 [==============================] - 850s 449ms/step - loss: 0.1458 - categorical_accuracy: 0.9585 - val_loss: 0.1660 - val_categorical_accuracy: 0.9579\n",
      "Epoch 43/50\n",
      "1890/1890 [==============================] - 849s 449ms/step - loss: 0.1428 - categorical_accuracy: 0.9593 - val_loss: 0.1922 - val_categorical_accuracy: 0.9573\n",
      "Epoch 44/50\n",
      "1890/1890 [==============================] - 850s 450ms/step - loss: 0.1411 - categorical_accuracy: 0.9600 - val_loss: 0.1620 - val_categorical_accuracy: 0.9653\n",
      "Epoch 45/50\n",
      "1890/1890 [==============================] - 850s 450ms/step - loss: 0.1388 - categorical_accuracy: 0.9601 - val_loss: 0.1476 - val_categorical_accuracy: 0.9693\n",
      "Epoch 46/50\n",
      "1890/1890 [==============================] - 851s 450ms/step - loss: 0.1389 - categorical_accuracy: 0.9615 - val_loss: 0.1486 - val_categorical_accuracy: 0.9660\n"
     ]
    },
    {
     "name": "stdout",
     "output_type": "stream",
     "text": [
      "Epoch 47/50\n",
      "1890/1890 [==============================] - 850s 450ms/step - loss: 0.1333 - categorical_accuracy: 0.9621 - val_loss: 0.1488 - val_categorical_accuracy: 0.9660\n",
      "Epoch 48/50\n",
      "1890/1890 [==============================] - 850s 450ms/step - loss: 0.1310 - categorical_accuracy: 0.9640 - val_loss: 0.1562 - val_categorical_accuracy: 0.9678\n",
      "Epoch 49/50\n",
      "1890/1890 [==============================] - 850s 450ms/step - loss: 0.1269 - categorical_accuracy: 0.9651 - val_loss: 0.1540 - val_categorical_accuracy: 0.9628\n",
      "Epoch 50/50\n",
      "1890/1890 [==============================] - 850s 450ms/step - loss: 0.1276 - categorical_accuracy: 0.9641 - val_loss: 0.1517 - val_categorical_accuracy: 0.9650\n"
     ]
    }
   ],
   "source": [
    "import math\n",
    "\n",
    "history = fruitNetModel.fit_generator(\n",
    "      train_generator,\n",
    "      steps_per_epoch=math.ceil(number_of_training_samples//batch_size),\n",
    "      epochs=50,\n",
    "      callbacks=callbacks_list,\n",
    "      validation_data=validation_generator,\n",
    "      validation_steps=math.ceil(number_of_validation_samples//batch_size))"
   ]
  },
  {
   "cell_type": "code",
   "execution_count": 6,
   "metadata": {},
   "outputs": [
    {
     "data": {
      "image/png": "[encoded data removed]",
      "text/plain": [
       "<Figure size 432x288 with 1 Axes>"
      ]
     },
     "metadata": {
      "needs_background": "light"
     },
     "output_type": "display_data"
    },
    {
     "data": {
      "image/png": "[encoded data removed]",
      "text/plain": [
       "<Figure size 432x288 with 1 Axes>"
      ]
     },
     "metadata": {
      "needs_background": "light"
     },
     "output_type": "display_data"
    }
   ],
   "source": [
    "import matplotlib.pyplot as plt\n",
    "%matplotlib inline\n",
    "\n",
    "acc=history.history['categorical_accuracy']\n",
    "val_acc=history.history['val_categorical_accuracy']\n",
    "loss=history.history['loss']\n",
    "val_loss=history.history['val_loss']\n",
    "epochs=range(1,len(acc)+1)\n",
    "plt.xlabel('Epochs')\n",
    "plt.ylabel('Accuracy')\n",
    "plt.plot(epochs, acc, 'bo', label='Training acc')\n",
    "plt.plot(epochs, val_acc, 'b', label='Validation acc')\n",
    "plt.title('Training and validation accuracy')\n",
    "plt.legend()\n",
    "plt.figure()\n",
    "\n",
    "plt.plot(epochs, loss, 'bo', label='Training loss')\n",
    "plt.plot(epochs, val_loss, 'b', label='Validation loss')\n",
    "plt.title('Training and validation loss')\n",
    "plt.xlabel('Epochs')\n",
    "plt.ylabel('Loss')\n",
    "plt.legend()\n",
    "plt.show()"
   ]
  },
  {
   "cell_type": "code",
   "execution_count": 7,
   "metadata": {},
   "outputs": [],
   "source": [
    "number_of_test_samples=14622"
   ]
  },
  {
   "cell_type": "code",
   "execution_count": 9,
   "metadata": {},
   "outputs": [
    {
     "name": "stdout",
     "output_type": "stream",
     "text": [
      "Found 14622 images belonging to 120 classes.\n",
      "457/457 [==============================] - 42s 92ms/step - loss: 0.1263 - categorical_accuracy: 0.9754\n",
      "Test-set accuracy: 97.54%\n"
     ]
    }
   ],
   "source": [
    "from tensorflow.python.keras.models import load_model\n",
    "\n",
    "test_generator = test_datagen.flow_from_directory(\n",
    "        test_dir,\n",
    "        target_size=(100, 100),\n",
    "        batch_size=batch_size, shuffle=False)\n",
    "\n",
    "best_model = load_model('FruitNet2_fruit_image_classification_120_classes.h5')\n",
    "steps_test=int(number_of_test_samples/batch_size)\n",
    "result = best_model.evaluate_generator(test_generator, steps=steps_test,verbose=1)\n",
    "print(\"Test-set accuracy: {0:.2%}\".format(result[1]))"
   ]
  }
 ],
 "metadata": {
  "kernelspec": {
   "display_name": "Python 3",
   "language": "python",
   "name": "python3"
  },
  "language_info": {
   "codemirror_mode": {
    "name": "ipython",
    "version": 3
   },
   "file_extension": ".py",
   "mimetype": "text/x-python",
   "name": "python",
   "nbconvert_exporter": "python",
   "pygments_lexer": "ipython3",
   "version": "3.6.8"
  }
 },
 "nbformat": 4,
 "nbformat_minor": 2
}
